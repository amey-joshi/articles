{
 "cells": [
  {
   "cell_type": "markdown",
   "metadata": {},
   "source": [
    "# The Perils of p-value\n",
    "\n",
    "## Executive summary\n",
    "All statistical tests consist of deciding whether or not to reject a null hypothesis. The decision hinges on a single number which is the probability of committing a type-I error also called the $p$-value. This article points out the danger of deciding a hypothesis by reading the $p$-value from a statistical test on a single sample."
   ]
  },
  {
   "cell_type": "code",
   "execution_count": 7,
   "metadata": {},
   "outputs": [],
   "source": [
    "import numpy as np\n",
    "import pandas as pd\n",
    "import seaborn as sns\n",
    "import matplotlib.pyplot as plt\n",
    "from scipy import stats\n",
    "\n",
    "np.random.seed(15081947)"
   ]
  },
  {
   "cell_type": "markdown",
   "metadata": {},
   "source": [
    "## An example\n",
    "Let us consider a synthetic data set which has $30$ numbers. "
   ]
  },
  {
   "cell_type": "code",
   "execution_count": 14,
   "metadata": {},
   "outputs": [],
   "source": [
    "dataset_1 = np.random.binomial(n=100, p=0.1, size=30)\n",
    "dataset_2 = np.random.binomial(n=100, p=0.08, size=30)"
   ]
  },
  {
   "cell_type": "markdown",
   "metadata": {},
   "source": [
    "Each one is a set of $30$ binomially distributed random variables. An individual random variable is the number of 'successes' in $100$ coin-tosses where the probability of success is $0.1$ in the first data set and $0.08$ in the second one. We can consider these data sets as the number of defective items found in $30$ samples of $100$ items each. The 'success' in this case is in finding a defective item. \n",
    "\n",
    "From the choice of $p$ we expect that the second data set will have fewer defective items than the first one. Let us compare the five-point summary of the two datasets."
   ]
  },
  {
   "cell_type": "code",
   "execution_count": 18,
   "metadata": {},
   "outputs": [],
   "source": [
    "D = pd.DataFrame({'d1': dataset_1, 'd2': dataset_2})"
   ]
  },
  {
   "cell_type": "code",
   "execution_count": 20,
   "metadata": {},
   "outputs": [
    {
     "data": {
      "text/html": [
       "<div>\n",
       "<style scoped>\n",
       "    .dataframe tbody tr th:only-of-type {\n",
       "        vertical-align: middle;\n",
       "    }\n",
       "\n",
       "    .dataframe tbody tr th {\n",
       "        vertical-align: top;\n",
       "    }\n",
       "\n",
       "    .dataframe thead th {\n",
       "        text-align: right;\n",
       "    }\n",
       "</style>\n",
       "<table border=\"1\" class=\"dataframe\">\n",
       "  <thead>\n",
       "    <tr style=\"text-align: right;\">\n",
       "      <th></th>\n",
       "      <th>d1</th>\n",
       "      <th>d2</th>\n",
       "    </tr>\n",
       "  </thead>\n",
       "  <tbody>\n",
       "    <tr>\n",
       "      <th>count</th>\n",
       "      <td>30.000000</td>\n",
       "      <td>30.000000</td>\n",
       "    </tr>\n",
       "    <tr>\n",
       "      <th>mean</th>\n",
       "      <td>11.166667</td>\n",
       "      <td>7.766667</td>\n",
       "    </tr>\n",
       "    <tr>\n",
       "      <th>std</th>\n",
       "      <td>3.895916</td>\n",
       "      <td>2.445028</td>\n",
       "    </tr>\n",
       "    <tr>\n",
       "      <th>min</th>\n",
       "      <td>4.000000</td>\n",
       "      <td>2.000000</td>\n",
       "    </tr>\n",
       "    <tr>\n",
       "      <th>25%</th>\n",
       "      <td>8.250000</td>\n",
       "      <td>7.000000</td>\n",
       "    </tr>\n",
       "    <tr>\n",
       "      <th>50%</th>\n",
       "      <td>11.000000</td>\n",
       "      <td>8.000000</td>\n",
       "    </tr>\n",
       "    <tr>\n",
       "      <th>75%</th>\n",
       "      <td>14.000000</td>\n",
       "      <td>9.000000</td>\n",
       "    </tr>\n",
       "    <tr>\n",
       "      <th>max</th>\n",
       "      <td>18.000000</td>\n",
       "      <td>12.000000</td>\n",
       "    </tr>\n",
       "  </tbody>\n",
       "</table>\n",
       "</div>"
      ],
      "text/plain": [
       "              d1         d2\n",
       "count  30.000000  30.000000\n",
       "mean   11.166667   7.766667\n",
       "std     3.895916   2.445028\n",
       "min     4.000000   2.000000\n",
       "25%     8.250000   7.000000\n",
       "50%    11.000000   8.000000\n",
       "75%    14.000000   9.000000\n",
       "max    18.000000  12.000000"
      ]
     },
     "execution_count": 20,
     "metadata": {},
     "output_type": "execute_result"
    }
   ],
   "source": [
    "D.describe()"
   ]
  },
  {
   "cell_type": "markdown",
   "metadata": {},
   "source": [
    "The summary is on the expected lines. We do expect the mean number of defective items in the second dataset to be smaller than that in the first one. We also expect that the maximum number of defects found in the first data set will be greater than that found in the second one. If we do a two-sample $t$-test on these samples we expect it to give a decisive result that the two samples come from different distributions."
   ]
  },
  {
   "cell_type": "code",
   "execution_count": 21,
   "metadata": {},
   "outputs": [],
   "source": [
    "results = stats.ttest_ind(dataset_1, dataset_2, equal_var=False)"
   ]
  },
  {
   "cell_type": "code",
   "execution_count": 22,
   "metadata": {},
   "outputs": [
    {
     "name": "stdout",
     "output_type": "stream",
     "text": [
      "The p-value of the test is 0.0001836423817491004.\n"
     ]
    }
   ],
   "source": [
    "print(f'The p-value of the test is {results[1]}.')"
   ]
  },
  {
   "cell_type": "markdown",
   "metadata": {},
   "source": [
    "Recall that the null hypothesis of the two-sample $t$-test is that the two samples have the same mean. The $p$-value obtained above suggests that that we can reject the null-hypothesis and conclude that the the two sample have different means. No surprise here. We had created the two data sets with different means."
   ]
  },
  {
   "cell_type": "markdown",
   "metadata": {},
   "source": [
    "## Repetitions of the experiment"
   ]
  },
  {
   "cell_type": "markdown",
   "metadata": {},
   "source": [
    "Now suppose that we repeat this experiment a large number of times, say $1000$ times. Each time we draw a sample from the binomial distributions with $100$ trials each and $p=0.1$ and $p=0.08$. We run a two sample $t$-test on them and save the $p$-value. We will check what kind of $p$-values we get in our experiment."
   ]
  },
  {
   "cell_type": "code",
   "execution_count": 24,
   "metadata": {},
   "outputs": [
    {
     "name": "stdout",
     "output_type": "stream",
     "text": [
      "Five point summary of p-values:\n",
      "Minimum: 6.677355148482334e-09.\n",
      "Maximum: 0.9675244174174178.\n",
      "Mean:    0.048117409089415246.\n",
      "Median:  0.048117409089415246.\n",
      "Stdev:   0.10565056795483306.\n"
     ]
    }
   ],
   "source": [
    "def sample_and_test():\n",
    "    d1 = np.random.binomial(n=100, p=0.1, size=30)\n",
    "    d2 = np.random.binomial(n=100, p=0.08, size=30)\n",
    "    \n",
    "    results = stats.ttest_ind(d1, d2)\n",
    "    return results[1]\n",
    "\n",
    "n_experiments = 1000\n",
    "p_values = [0] * n_experiments\n",
    "\n",
    "for i in range(n_experiments):\n",
    "    p_values[i] = sample_and_test()\n",
    "    \n",
    "print('Five point summary of p-values:')\n",
    "print(f'Minimum: {np.min(p_values)}.')\n",
    "print(f'Maximum: {np.max(p_values)}.')\n",
    "print(f'Mean:    {np.mean(p_values)}.')\n",
    "print(f'Median:  {np.mean(p_values)}.')\n",
    "print(f'Stdev:   {np.std(p_values)}.')\n"
   ]
  },
  {
   "cell_type": "markdown",
   "metadata": {},
   "source": [
    "It is quite surprising to observe that the maximum $p$-value was close to $1$. Let us plot a histogram of these $p$-values to find out the nature of their distribution."
   ]
  },
  {
   "cell_type": "code",
   "execution_count": 26,
   "metadata": {},
   "outputs": [
    {
     "data": {
      "image/png": "[encoded data removed]",
      "text/plain": [
       "<Figure size 360x360 with 1 Axes>"
      ]
     },
     "metadata": {
      "needs_background": "light"
     },
     "output_type": "display_data"
    }
   ],
   "source": [
    "sns.displot(p_values, kind='hist', bins = 20, rug=True)\n",
    "ignore = plt.title('Distribution of p-values')"
   ]
  },
  {
   "cell_type": "markdown",
   "metadata": {},
   "source": [
    "It is not uncommon to get $p$-values greater than the customary $0.05$ used to decide a hypothesis."
   ]
  },
  {
   "cell_type": "code",
   "execution_count": 28,
   "metadata": {},
   "outputs": [
    {
     "name": "stdout",
     "output_type": "stream",
     "text": [
      "Number of p-values greater than 0.05 = 227 out of 1000.\n"
     ]
    }
   ],
   "source": [
    "high = sum([p > 0.05 for p in p_values])\n",
    "print(f'Number of p-values greater than 0.05 = {high} out of {n_experiments}.')"
   ]
  },
  {
   "cell_type": "markdown",
   "metadata": {},
   "source": [
    "For a whopping $22\\%$ of the trials the $t$-test on a pair of samples drawn from two different binomial distributions resulted in a $p$-value greater than $0.05$."
   ]
  },
  {
   "cell_type": "markdown",
   "metadata": {},
   "source": [
    "## How should we use p-values?\n",
    "\n",
    "Statistical tests have relied on $p$-values for decades although statisticians were always aware that getting a certain $p$-value was always a matter of chance. Several statisticians had also cautioned on the tendancy of some practioners to select a sample that gives a $p$-value convenient to them. Infering based a single $p$-value is relying on luck. But we can take advantage of the distribution of $p$-values shown in the histogram above to make $p$-value analysis useful. Instead of relying on a single sample to come to a conclusion, one must run a statistical test on a large number of samples. If most of them result in a $p$-value smaller than a threshold then we should reject the null hypothesis. Otherwise, one should not reject it."
   ]
  },
  {
   "cell_type": "markdown",
   "metadata": {},
   "source": [
    "## Additional References\n",
    "\n",
    "1. The statistician Nassim Nicholas Taleb has been a vocal critique of several dangerous practices in data analysis. He explains the subject matter of this article in greater depths in a [YouTube video](https://www.youtube.com/watch?v=8qrfSh07rT0) and a [research paper](https://arxiv.org/pdf/1603.07532).\n",
    "\n",
    "2. Another [YouTube video](https://www.youtube.com/watch?v=UFhJefdVCjE) explaining the point in greater details, but with great lucidity."
   ]
  }
 ],
 "metadata": {
  "kernelspec": {
   "display_name": "Python 3",
   "language": "python",
   "name": "python3"
  },
  "language_info": {
   "codemirror_mode": {
    "name": "ipython",
    "version": 3
   },
   "file_extension": ".py",
   "mimetype": "text/x-python",
   "name": "python",
   "nbconvert_exporter": "python",
   "pygments_lexer": "ipython3",
   "version": "3.8.5"
  }
 },
 "nbformat": 4,
 "nbformat_minor": 4
}
